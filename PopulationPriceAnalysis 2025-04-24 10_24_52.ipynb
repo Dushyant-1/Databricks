{
 "cells": [
  {
   "cell_type": "code",
   "execution_count": 0,
   "metadata": {
    "application/vnd.databricks.v1+cell": {
     "cellMetadata": {
      "byteLimit": 2048000,
      "rowLimit": 10000
     },
     "inputWidgets": {},
     "nuid": "2fc70944-1bcd-4d79-930a-f639e081dbed",
     "showTitle": false,
     "tableResultSettingsMap": {},
     "title": ""
    }
   },
   "outputs": [],
   "source": [
    "# Load the dataset from DBFS (Databricks Filesystem)\n",
    "file_path = \"/databricks-datasets/samples/population-vs-price/data_geo.csv\"\n",
    "df = spark.read.csv(file_path, header=True, inferSchema=True)"
   ]
  },
  {
   "cell_type": "code",
   "execution_count": 0,
   "metadata": {
    "application/vnd.databricks.v1+cell": {
     "cellMetadata": {
      "byteLimit": 2048000,
      "rowLimit": 10000
     },
     "inputWidgets": {},
     "nuid": "6c843356-3f07-4e30-be31-8d3b9a87381f",
     "showTitle": false,
     "tableResultSettingsMap": {},
     "title": ""
    }
   },
   "outputs": [
    {
     "output_type": "stream",
     "name": "stdout",
     "output_type": "stream",
     "text": [
      "root\n |-- 2014 rank: integer (nullable = true)\n |-- City: string (nullable = true)\n |-- State: string (nullable = true)\n |-- State Code: string (nullable = true)\n |-- 2014 Population estimate: integer (nullable = true)\n |-- 2015 median sales price: double (nullable = true)\n\n"
     ]
    }
   ],
   "source": [
    "df.printSchema()"
   ]
  },
  {
   "cell_type": "code",
   "execution_count": 0,
   "metadata": {
    "application/vnd.databricks.v1+cell": {
     "cellMetadata": {
      "byteLimit": 2048000,
      "rowLimit": 10000
     },
     "inputWidgets": {},
     "nuid": "5dbdd093-c1a7-4007-b975-11190db9925b",
     "showTitle": false,
     "tableResultSettingsMap": {},
     "title": ""
    }
   },
   "outputs": [
    {
     "output_type": "stream",
     "name": "stdout",
     "output_type": "stream",
     "text": [
      "+---------+-------------+-------+----------+------------------------+-----------------------+\n|2014 rank|         City|  State|State Code|2014 Population estimate|2015 median sales price|\n+---------+-------------+-------+----------+------------------------+-----------------------+\n|      101|   Birmingham|Alabama|        AL|                  212247|                  162.9|\n|      125|   Huntsville|Alabama|        AL|                  188226|                  157.7|\n|      122|       Mobile|Alabama|        AL|                  194675|                  122.5|\n|      114|   Montgomery|Alabama|        AL|                  200481|                  129.0|\n|       64|Anchorage[19]| Alaska|        AK|                  301010|                   null|\n+---------+-------------+-------+----------+------------------------+-----------------------+\nonly showing top 5 rows\n\n"
     ]
    }
   ],
   "source": [
    "df.show(5)"
   ]
  },
  {
   "cell_type": "code",
   "execution_count": 0,
   "metadata": {
    "application/vnd.databricks.v1+cell": {
     "cellMetadata": {
      "byteLimit": 2048000,
      "rowLimit": 10000
     },
     "inputWidgets": {},
     "nuid": "3a9b5964-8e1b-4e66-86d9-188683e7d5ce",
     "showTitle": false,
     "tableResultSettingsMap": {},
     "title": ""
    }
   },
   "outputs": [
    {
     "output_type": "stream",
     "name": "stdout",
     "output_type": "stream",
     "text": [
      "+-------------+-------+----------+------------------------+-----------------------+\n|         City|  State|State Code|2014 Population estimate|2015 median sales price|\n+-------------+-------+----------+------------------------+-----------------------+\n|   Birmingham|Alabama|        AL|                  212247|                  162.9|\n|   Huntsville|Alabama|        AL|                  188226|                  157.7|\n|       Mobile|Alabama|        AL|                  194675|                  122.5|\n|   Montgomery|Alabama|        AL|                  200481|                  129.0|\n|Anchorage[19]| Alaska|        AK|                  301010|                   null|\n+-------------+-------+----------+------------------------+-----------------------+\nonly showing top 5 rows\n\n"
     ]
    }
   ],
   "source": [
    "# Select relevant columns for analysis\n",
    "df_selected = df.select(\n",
    "    \"City\", \"State\", \"State Code\", \n",
    "    \"2014 Population estimate\", \"2015 median sales price\"\n",
    ")\n",
    "df_selected.show(5)"
   ]
  },
  {
   "cell_type": "code",
   "execution_count": 0,
   "metadata": {
    "application/vnd.databricks.v1+cell": {
     "cellMetadata": {
      "byteLimit": 2048000,
      "rowLimit": 10000
     },
     "inputWidgets": {},
     "nuid": "baeaf2f8-8fc8-41ba-aa9f-6646aa252dd3",
     "showTitle": false,
     "tableResultSettingsMap": {},
     "title": ""
    }
   },
   "outputs": [
    {
     "output_type": "stream",
     "name": "stdout",
     "output_type": "stream",
     "text": [
      "+---------------+\n|           City|\n+---------------+\n|    New York[6]|\n|    Los Angeles|\n|        Chicago|\n|     Houston[7]|\n|Philadelphia[8]|\n|        Phoenix|\n|    San Antonio|\n|      San Diego|\n|         Dallas|\n|       San Jose|\n+---------------+\nonly showing top 10 rows\n\n"
     ]
    }
   ],
   "source": [
    "from pyspark.sql.functions import desc\n",
    "\n",
    "populated_city=df.select(\"City\").orderBy(desc(\"2014 Population estimate\")).show(10)\n",
    "\n"
   ]
  },
  {
   "cell_type": "code",
   "execution_count": 0,
   "metadata": {
    "application/vnd.databricks.v1+cell": {
     "cellMetadata": {
      "byteLimit": 2048000,
      "rowLimit": 10000
     },
     "inputWidgets": {},
     "nuid": "192a4063-e0be-4b65-97c6-a5ae4fc74b2f",
     "showTitle": false,
     "tableResultSettingsMap": {},
     "title": ""
    }
   },
   "outputs": [
    {
     "output_type": "display_data",
     "data": {
      "text/html": [
       "<style scoped>\n",
       "  .table-result-container {\n",
       "    max-height: 300px;\n",
       "    overflow: auto;\n",
       "  }\n",
       "  table, th, td {\n",
       "    border: 1px solid black;\n",
       "    border-collapse: collapse;\n",
       "  }\n",
       "  th, td {\n",
       "    padding: 5px;\n",
       "  }\n",
       "  th {\n",
       "    text-align: left;\n",
       "  }\n",
       "</style><div class='table-result-container'><table class='table-result'><thead style='background-color: white'><tr><th>City</th></tr></thead><tbody><tr><td>New York[6]</td></tr><tr><td>Los Angeles</td></tr><tr><td>Chicago</td></tr><tr><td>Houston[7]</td></tr><tr><td>Philadelphia[8]</td></tr><tr><td>Phoenix</td></tr><tr><td>San Antonio</td></tr><tr><td>San Diego</td></tr><tr><td>Dallas</td></tr><tr><td>San Jose</td></tr></tbody></table></div>"
      ]
     },
     "metadata": {
      "application/vnd.databricks.v1+output": {
       "addedWidgets": {},
       "aggData": [],
       "aggError": "",
       "aggOverflow": false,
       "aggSchema": [],
       "aggSeriesLimitReached": false,
       "aggType": "",
       "arguments": {},
       "columnCustomDisplayInfos": {},
       "data": [
        [
         "New York[6]"
        ],
        [
         "Los Angeles"
        ],
        [
         "Chicago"
        ],
        [
         "Houston[7]"
        ],
        [
         "Philadelphia[8]"
        ],
        [
         "Phoenix"
        ],
        [
         "San Antonio"
        ],
        [
         "San Diego"
        ],
        [
         "Dallas"
        ],
        [
         "San Jose"
        ]
       ],
       "datasetInfos": [],
       "dbfsResultPath": null,
       "isJsonSchema": true,
       "metadata": {},
       "overflow": false,
       "plotOptions": {
        "customPlotOptions": {},
        "displayType": "table",
        "pivotAggregation": null,
        "pivotColumns": null,
        "xColumns": null,
        "yColumns": null
       },
       "removedWidgets": [],
       "schema": [
        {
         "metadata": "{}",
         "name": "City",
         "type": "\"string\""
        }
       ],
       "type": "table"
      }
     },
     "output_type": "display_data"
    }
   ],
   "source": [
    "from pyspark.sql.functions import desc\n",
    "\n",
    "populated_city=df.select(\"City\").orderBy(desc(\"2014 Population estimate\")).limit(10)\n",
    "display(populated_city)"
   ]
  },
  {
   "cell_type": "code",
   "execution_count": 0,
   "metadata": {
    "application/vnd.databricks.v1+cell": {
     "cellMetadata": {
      "byteLimit": 2048000,
      "rowLimit": 10000
     },
     "inputWidgets": {},
     "nuid": "9595b381-28a5-4c20-8534-13b5c4879e61",
     "showTitle": false,
     "tableResultSettingsMap": {},
     "title": ""
    }
   },
   "outputs": [],
   "source": [
    "  #Average median sales price by state"
   ]
  },
  {
   "cell_type": "code",
   "execution_count": 0,
   "metadata": {
    "application/vnd.databricks.v1+cell": {
     "cellMetadata": {
      "byteLimit": 2048000,
      "rowLimit": 10000
     },
     "inputWidgets": {},
     "nuid": "e904ec4e-3589-4d24-b051-df93d0638ba3",
     "showTitle": false,
     "tableResultSettingsMap": {},
     "title": ""
    }
   },
   "outputs": [
    {
     "output_type": "stream",
     "name": "stdout",
     "output_type": "stream",
     "text": [
      "+--------------------+------------------+\n|               State|  Avg Median Price|\n+--------------------+------------------+\n|             Hawai'i|             699.3|\n|          California| 547.9714285714286|\n|District of Columbia|             367.8|\n|          New Jersey|             350.8|\n|            Colorado|333.46666666666664|\n|          Washington|266.29999999999995|\n|       Massachusetts|             261.8|\n|         Connecticut|250.13333333333333|\n|                Utah|             243.3|\n|       New Hampshire|             237.4|\n|              Nevada|             237.3|\n|        Rhode Island|             233.3|\n|              Oregon|231.53333333333333|\n|            Maryland|             223.1|\n|           Wisconsin|             210.8|\n|           Minnesota|             209.4|\n|            Virginia|            201.25|\n|             Arizona|             192.1|\n|            New York|           185.775|\n|        Pennsylvania|             183.8|\n+--------------------+------------------+\nonly showing top 20 rows\n\n"
     ]
    }
   ],
   "source": [
    "from pyspark.sql.functions import avg, col\n",
    "\n",
    "median_sales = df.groupBy(\"State\") \\\n",
    "    .agg(avg(col(\"2015 median sales price\")).alias(\"Avg Median Price\")) \\\n",
    "    .orderBy(\"Avg Median Price\", ascending=False)\n",
    "\n",
    "median_sales.show()\n"
   ]
  },
  {
   "cell_type": "code",
   "execution_count": 0,
   "metadata": {
    "application/vnd.databricks.v1+cell": {
     "cellMetadata": {
      "byteLimit": 2048000,
      "rowLimit": 10000
     },
     "inputWidgets": {},
     "nuid": "87b59871-4e4f-49e9-808a-bb463ebca047",
     "showTitle": false,
     "tableResultSettingsMap": {},
     "title": ""
    }
   },
   "outputs": [
    {
     "output_type": "stream",
     "name": "stdout",
     "output_type": "stream",
     "text": [
      "+-------------+------------------------+\n|         City|2014 Population estimate|\n+-------------+------------------------+\n|   Birmingham|                  212247|\n|   Huntsville|                  188226|\n|       Mobile|                  194675|\n|   Montgomery|                  200481|\n|Anchorage[19]|                  301010|\n|     Chandler|                  254276|\n|  Gilbert[20]|                  239277|\n|     Glendale|                  237517|\n|         Mesa|                  464704|\n|       Peoria|                  166934|\n+-------------+------------------------+\nonly showing top 10 rows\n\n"
     ]
    }
   ],
   "source": [
    "#Display city name and population\n",
    "display_city = df.select(\"City\", \"2014 Population estimate\")\n",
    "display_city.show(10)\n",
    "\n"
   ]
  },
  {
   "cell_type": "code",
   "execution_count": 0,
   "metadata": {
    "application/vnd.databricks.v1+cell": {
     "cellMetadata": {
      "byteLimit": 2048000,
      "rowLimit": 10000
     },
     "inputWidgets": {},
     "nuid": "6dec55fc-c164-4a4f-b21c-a06eb222550e",
     "showTitle": false,
     "tableResultSettingsMap": {},
     "title": ""
    }
   },
   "outputs": [
    {
     "output_type": "display_data",
     "data": {
      "text/html": [
       "<style scoped>\n",
       "  .table-result-container {\n",
       "    max-height: 300px;\n",
       "    overflow: auto;\n",
       "  }\n",
       "  table, th, td {\n",
       "    border: 1px solid black;\n",
       "    border-collapse: collapse;\n",
       "  }\n",
       "  th, td {\n",
       "    padding: 5px;\n",
       "  }\n",
       "  th {\n",
       "    text-align: left;\n",
       "  }\n",
       "</style><div class='table-result-container'><table class='table-result'><thead style='background-color: white'><tr><th>City</th><th>2014 Population estimate</th></tr></thead><tbody><tr><td>Phoenix</td><td>1537058</td></tr><tr><td>Los Angeles</td><td>3928864</td></tr><tr><td>San Diego</td><td>1381069</td></tr><tr><td>San Jose</td><td>1015785</td></tr><tr><td>Chicago</td><td>2722389</td></tr><tr><td>New York[6]</td><td>8491079</td></tr><tr><td>Philadelphia[8]</td><td>1560297</td></tr><tr><td>Dallas</td><td>1281047</td></tr><tr><td>Houston[7]</td><td>2239558</td></tr><tr><td>San Antonio</td><td>1436697</td></tr></tbody></table></div>"
      ]
     },
     "metadata": {
      "application/vnd.databricks.v1+output": {
       "addedWidgets": {},
       "aggData": [],
       "aggError": "",
       "aggOverflow": false,
       "aggSchema": [],
       "aggSeriesLimitReached": false,
       "aggType": "",
       "arguments": {},
       "columnCustomDisplayInfos": {},
       "data": [
        [
         "Phoenix",
         1537058
        ],
        [
         "Los Angeles",
         3928864
        ],
        [
         "San Diego",
         1381069
        ],
        [
         "San Jose",
         1015785
        ],
        [
         "Chicago",
         2722389
        ],
        [
         "New York[6]",
         8491079
        ],
        [
         "Philadelphia[8]",
         1560297
        ],
        [
         "Dallas",
         1281047
        ],
        [
         "Houston[7]",
         2239558
        ],
        [
         "San Antonio",
         1436697
        ]
       ],
       "datasetInfos": [],
       "dbfsResultPath": null,
       "isJsonSchema": true,
       "metadata": {},
       "overflow": false,
       "plotOptions": {
        "customPlotOptions": {},
        "displayType": "table",
        "pivotAggregation": null,
        "pivotColumns": null,
        "xColumns": null,
        "yColumns": null
       },
       "removedWidgets": [],
       "schema": [
        {
         "metadata": "{}",
         "name": "City",
         "type": "\"string\""
        },
        {
         "metadata": "{}",
         "name": "2014 Population estimate",
         "type": "\"integer\""
        }
       ],
       "type": "table"
      }
     },
     "output_type": "display_data"
    },
    {
     "output_type": "display_data",
     "data": {
      "text/plain": [
       "Databricks visualization. Run in Databricks to view."
      ]
     },
     "metadata": {
      "application/vnd.databricks.v1.subcommand+json": {
       "baseErrorDetails": null,
       "bindings": {},
       "collapsed": false,
       "command": "%python\n__backend_agg_display_orig = display\n__backend_agg_dfs = []\ndef __backend_agg_display_new(df):\n    __backend_agg_df_modules = [\"pandas.core.frame\", \"databricks.koalas.frame\", \"pyspark.sql.dataframe\", \"pyspark.pandas.frame\", \"pyspark.sql.connect.dataframe\"]\n    if (type(df).__module__ in __backend_agg_df_modules and type(df).__name__ == 'DataFrame') or isinstance(df, list):\n        __backend_agg_dfs.append(df)\n\ndisplay = __backend_agg_display_new\n\ndef __backend_agg_user_code_fn():\n    import base64\n    exec(base64.standard_b64decode(\"I0Rpc3BsYXkgY2l0aWVzIHdpdGggcG9wdWxhdGluIG1vcmUgdGhhbiAxIG1pbGxpb24KCmRpc3BsYXlfY2l0eSA9IGRmLnNlbGVjdCgiQ2l0eSIsICIyMDE0IFBvcHVsYXRpb24gZXN0aW1hdGUiKS53aGVyZShjb2woIjIwMTQgUG9wdWxhdGlvbiBlc3RpbWF0ZSIpPjEwMDAwMDApLmRpc3BsYXkoKQ==\").decode())\n\ntry:\n    # run user code\n    __backend_agg_user_code_fn()\n\n    #reset display function\n    display = __backend_agg_display_orig\n\n    if len(__backend_agg_dfs) > 0:\n        # create a temp view\n        if type(__backend_agg_dfs[0]).__module__ == \"databricks.koalas.frame\":\n            # koalas dataframe\n            __backend_agg_dfs[0].to_spark().createOrReplaceTempView(\"DatabricksViewb010dce\")\n        elif type(__backend_agg_dfs[0]).__module__ == \"pandas.core.frame\" or isinstance(__backend_agg_dfs[0], list):\n            # pandas dataframe\n            spark.createDataFrame(__backend_agg_dfs[0]).createOrReplaceTempView(\"DatabricksViewb010dce\")\n        else:\n            __backend_agg_dfs[0].createOrReplaceTempView(\"DatabricksViewb010dce\")\n        #run backend agg\n        display(spark.sql(\"\"\"WITH q AS (select * from DatabricksViewb010dce) SELECT `City`,SUM(`2014 Population estimate`) `column_ea59656233` FROM q GROUP BY `City`\"\"\"))\n    else:\n        displayHTML(\"dataframe no longer exists. If you're using dataframe.display(), use display(dataframe) instead.\")\n\n\nfinally:\n    spark.sql(\"drop view if exists DatabricksViewb010dce\")\n    display = __backend_agg_display_orig\n    del __backend_agg_display_new\n    del __backend_agg_display_orig\n    del __backend_agg_dfs\n    del __backend_agg_user_code_fn\n\n",
       "commandTitle": "Visualization 1",
       "commandType": "auto",
       "commandVersion": 0,
       "commentThread": [],
       "commentsVisible": false,
       "contentSha256Hex": null,
       "customPlotOptions": {
        "redashChart": [
         {
          "key": "type",
          "value": "CHART"
         },
         {
          "key": "options",
          "value": {
           "alignYAxesAtZero": true,
           "coefficient": 1,
           "columnConfigurationMap": {
            "x": {
             "column": "City",
             "id": "column_ea59656232"
            },
            "y": [
             {
              "column": "2014 Population estimate",
              "id": "column_ea59656233",
              "transform": "SUM"
             }
            ]
           },
           "dateTimeFormat": "DD/MM/YYYY HH:mm",
           "direction": {
            "type": "counterclockwise"
           },
           "error_y": {
            "type": "data",
            "visible": true
           },
           "globalSeriesType": "pie",
           "legend": {
            "traceorder": "normal"
           },
           "missingValuesAsZero": true,
           "numberFormat": "0,0.[00000]",
           "percentFormat": "0[.]00%",
           "series": {
            "error_y": {
             "type": "data",
             "visible": true
            },
            "stacking": null
           },
           "seriesOptions": {
            "column_ea59656233": {
             "name": "2014 Population estimate",
             "type": "pie",
             "yAxis": 0
            }
           },
           "showDataLabels": true,
           "sizemode": "diameter",
           "sortX": true,
           "sortY": true,
           "swappedAxes": false,
           "textFormat": "",
           "useAggregationsUi": true,
           "valuesOptions": {},
           "version": 2,
           "xAxis": {
            "labels": {
             "enabled": true
            },
            "type": "-"
           },
           "yAxis": [
            {
             "type": "-"
            },
            {
             "opposite": true,
             "type": "-"
            }
           ]
          }
         }
        ]
       },
       "datasetPreviewNameToCmdIdMap": {},
       "diffDeletes": [],
       "diffInserts": [],
       "displayType": "redashChart",
       "error": null,
       "errorDetails": null,
       "errorSummary": null,
       "errorTraceType": null,
       "finishTime": 0,
       "globalVars": {},
       "guid": "",
       "height": "auto",
       "hideCommandCode": false,
       "hideCommandResult": false,
       "iPythonMetadata": null,
       "inputWidgets": {},
       "isLockedInExamMode": false,
       "latestUser": "a user",
       "latestUserId": null,
       "listResultMetadata": null,
       "metadata": {},
       "nuid": "75ef694a-4b54-4b9e-9c24-11e2b4b3e1f6",
       "origId": 0,
       "parentHierarchy": [],
       "pivotAggregation": null,
       "pivotColumns": null,
       "position": 13.0,
       "resultDbfsErrorMessage": null,
       "resultDbfsStatus": "INLINED_IN_TREE",
       "results": null,
       "showCommandTitle": false,
       "startTime": 0,
       "state": "input",
       "streamStates": {},
       "subcommandOptions": {
        "queryPlan": {
         "groups": [
          {
           "column": "City",
           "type": "column"
          }
         ],
         "selects": [
          {
           "column": "City",
           "type": "column"
          },
          {
           "alias": "column_ea59656233",
           "args": [
            {
             "column": "2014 Population estimate",
             "type": "column"
            }
           ],
           "function": "SUM",
           "type": "function"
          }
         ]
        }
       },
       "submitTime": 0,
       "subtype": "tableResultSubCmd.visualization",
       "tableResultIndex": 0,
       "tableResultSettingsMap": {},
       "useConsistentColors": false,
       "version": "CommandV1",
       "width": "auto",
       "workflows": [],
       "xColumns": null,
       "yColumns": null
      }
     },
     "output_type": "display_data"
    }
   ],
   "source": [
    "#Display cities with populatin more than 1 million\n",
    "\n",
    "display_city = df.select(\"City\", \"2014 Population estimate\").filter(col(\"2014 Population estimate\")>1000000).display()"
   ]
  },
  {
   "cell_type": "code",
   "execution_count": 0,
   "metadata": {
    "application/vnd.databricks.v1+cell": {
     "cellMetadata": {
      "byteLimit": 2048000,
      "rowLimit": 10000
     },
     "inputWidgets": {},
     "nuid": "83b0f3cf-938f-4369-8723-6708125cc194",
     "showTitle": false,
     "tableResultSettingsMap": {},
     "title": ""
    }
   },
   "outputs": [
    {
     "output_type": "display_data",
     "data": {
      "text/html": [
       "<style scoped>\n",
       "  .table-result-container {\n",
       "    max-height: 300px;\n",
       "    overflow: auto;\n",
       "  }\n",
       "  table, th, td {\n",
       "    border: 1px solid black;\n",
       "    border-collapse: collapse;\n",
       "  }\n",
       "  th, td {\n",
       "    padding: 5px;\n",
       "  }\n",
       "  th {\n",
       "    text-align: left;\n",
       "  }\n",
       "</style><div class='table-result-container'><table class='table-result'><thead style='background-color: white'><tr><th>City</th></tr></thead><tbody><tr><td>Anchorage[19]</td></tr><tr><td>Chandler</td></tr><tr><td>Gilbert[20]</td></tr><tr><td>Glendale</td></tr><tr><td>Mesa</td></tr><tr><td>Peoria</td></tr><tr><td>Scottsdale</td></tr><tr><td>Surprise</td></tr><tr><td>Tempe</td></tr><tr><td>Antioch</td></tr><tr><td>Bakersfield</td></tr><tr><td>Berkeley</td></tr><tr><td>Burbank</td></tr><tr><td>Carlsbad</td></tr><tr><td>Chula Vista</td></tr><tr><td>Clovis</td></tr><tr><td>Concord</td></tr><tr><td>Corona</td></tr><tr><td>Costa Mesa</td></tr><tr><td>Daly City</td></tr></tbody></table></div>"
      ]
     },
     "metadata": {
      "application/vnd.databricks.v1+output": {
       "addedWidgets": {},
       "aggData": [],
       "aggError": "",
       "aggOverflow": false,
       "aggSchema": [],
       "aggSeriesLimitReached": false,
       "aggType": "",
       "arguments": {},
       "columnCustomDisplayInfos": {},
       "data": [
        [
         "Anchorage[19]"
        ],
        [
         "Chandler"
        ],
        [
         "Gilbert[20]"
        ],
        [
         "Glendale"
        ],
        [
         "Mesa"
        ],
        [
         "Peoria"
        ],
        [
         "Scottsdale"
        ],
        [
         "Surprise"
        ],
        [
         "Tempe"
        ],
        [
         "Antioch"
        ],
        [
         "Bakersfield"
        ],
        [
         "Berkeley"
        ],
        [
         "Burbank"
        ],
        [
         "Carlsbad"
        ],
        [
         "Chula Vista"
        ],
        [
         "Clovis"
        ],
        [
         "Concord"
        ],
        [
         "Corona"
        ],
        [
         "Costa Mesa"
        ],
        [
         "Daly City"
        ]
       ],
       "datasetInfos": [],
       "dbfsResultPath": null,
       "isJsonSchema": true,
       "metadata": {},
       "overflow": false,
       "plotOptions": {
        "customPlotOptions": {},
        "displayType": "table",
        "pivotAggregation": null,
        "pivotColumns": null,
        "xColumns": null,
        "yColumns": null
       },
       "removedWidgets": [],
       "schema": [
        {
         "metadata": "{}",
         "name": "City",
         "type": "\"string\""
        }
       ],
       "type": "table"
      }
     },
     "output_type": "display_data"
    }
   ],
   "source": [
    "#Identify cities with missing or zero price values\n",
    "\n",
    "cities_missing=df.select(\"City\").filter((col(\"2015 median sales price\").isNull()) | (col(\"2015 median sales price\")==0)).limit(20)\n",
    "cities_missing.display()"
   ]
  },
  {
   "cell_type": "code",
   "execution_count": 0,
   "metadata": {
    "application/vnd.databricks.v1+cell": {
     "cellMetadata": {},
     "inputWidgets": {},
     "nuid": "37e82e18-f436-4c2a-9bce-40d1b855c645",
     "showTitle": false,
     "tableResultSettingsMap": {},
     "title": ""
    }
   },
   "outputs": [],
   "source": []
  }
 ],
 "metadata": {
  "application/vnd.databricks.v1+notebook": {
   "computePreferences": null,
   "dashboards": [],
   "environmentMetadata": {
    "base_environment": "",
    "environment_version": "1"
   },
   "inputWidgetPreferences": null,
   "language": "python",
   "notebookMetadata": {
    "pythonIndentUnit": 4
   },
   "notebookName": "PopulationPriceAnalysis 2025-04-24 10:24:52",
   "widgets": {}
  }
 },
 "nbformat": 4,
 "nbformat_minor": 0
}